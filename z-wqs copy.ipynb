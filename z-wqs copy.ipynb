{
 "cells": [
  {
   "cell_type": "code",
   "execution_count": null,
   "metadata": {},
   "outputs": [],
   "source": [
    "import numpy as np\n",
    "\n",
    "# 示例数据\n",
    "data = [92.6, 90.6, 60.2, 80.1, 90.3, 97.2]\n",
    "\n",
    "# 计算均值和标准差\n",
    "mean_value = np.mean(data)\n",
    "std_deviation = np.std(data)\n",
    "\n",
    "print(f\"MPDD I-AUROC 平均值: {mean_value}\")\n",
    "print(f\"MPDD I-AUROC 标准差: {std_deviation}\")"
   ]
  },
  {
   "cell_type": "code",
   "execution_count": null,
   "metadata": {},
   "outputs": [],
   "source": [
    "import numpy as np\n",
    "\n",
    "# 示例数据\n",
    "data = [78.3, 90.0, 21.8, 83.8, 95.2, 96.6]\n",
    "\n",
    "# 计算均值和标准差\n",
    "mean_value = np.mean(data)\n",
    "std_deviation = np.std(data)\n",
    "\n",
    "print(f\"MPDD P-AUPRO 平均值: {mean_value}\")\n",
    "print(f\"MPDD P-AUPRO 标准差: {std_deviation}\")"
   ]
  },
  {
   "cell_type": "code",
   "execution_count": null,
   "metadata": {},
   "outputs": [],
   "source": [
    "import numpy as np\n",
    "\n",
    "# 示例数据\n",
    "data = [93.5, 94.0, 69.3, 94.5, 94.1, 95.4]\n",
    "\n",
    "# 计算均值和标准差\n",
    "mean_value = np.mean(data)\n",
    "std_deviation = np.std(data)\n",
    "\n",
    "print(f\"BTAD I-AUROC 平均值: {mean_value}\")\n",
    "print(f\"BTAD I-AUROC 标准差: {std_deviation}\")"
   ]
  },
  {
   "cell_type": "code",
   "execution_count": null,
   "metadata": {},
   "outputs": [],
   "source": [
    "import numpy as np\n",
    "\n",
    "# 示例数据\n",
    "data = [72.9, 69.6, 16.1, 78.9, 79.9, 76.5]\n",
    "\n",
    "# 计算均值和标准差\n",
    "mean_value = np.mean(data)\n",
    "std_deviation = np.std(data)\n",
    "\n",
    "print(f\"BTAD P-AUPRO 平均值: {mean_value}\")\n",
    "print(f\"BTAD P-AUPRO 标准差: {std_deviation}\")"
   ]
  },
  {
   "cell_type": "code",
   "execution_count": 7,
   "metadata": {},
   "outputs": [
    {
     "name": "stdout",
     "output_type": "stream",
     "text": [
      "均值是: 83.8\n"
     ]
    }
   ],
   "source": [
    "import numpy as np\n",
    "\n",
    "# 数字列表\n",
    "numbers = [76.7, 72.3, 97.3, 89.0]\n",
    "\n",
    "# 计算均值并保留一位小数\n",
    "mean_value = np.mean(numbers)\n",
    "\n",
    "# 输出结果，保留一位小数\n",
    "print(\"均值是:\", round(mean_value, 1))"
   ]
  },
  {
   "cell_type": "code",
   "execution_count": null,
   "metadata": {},
   "outputs": [],
   "source": []
  }
 ],
 "metadata": {
  "kernelspec": {
   "display_name": "Dinomaly",
   "language": "python",
   "name": "python3"
  },
  "language_info": {
   "codemirror_mode": {
    "name": "ipython",
    "version": 3
   },
   "file_extension": ".py",
   "mimetype": "text/x-python",
   "name": "python",
   "nbconvert_exporter": "python",
   "pygments_lexer": "ipython3",
   "version": "3.8.19"
  }
 },
 "nbformat": 4,
 "nbformat_minor": 2
}
